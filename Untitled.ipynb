{
 "cells": [
  {
   "cell_type": "raw",
   "id": "a06a7f51-f332-45db-b5ff-42d42d315216",
   "metadata": {},
   "source": [
    "Task: Generating Report Cards from Excel (PDF form)\n",
    "You are given an Excel file named student_scores.xlsx containing the following columns:\n",
    "\n",
    "Student ID | Name | Subject Score\n",
    "Instructions:\n",
    "Please write a Python script that does the following:\n",
    "\n",
    "Reads the data from the Excel file using the pandas library. Groups the data by student and calculates their total and average scores across all subjects. Generates a personalized PDF report card for each student using the ReportLab library. Each report card should include: Student Name / Total Score / Average Score/ A table showing subject-wise scores. Save the PDF files with the naming format report_card_<StudentID>.pdf. Ensure that your script includes proper error handling for missing or invalid data in the Excel file.\n",
    "\n",
    "Please provide a brief explanation of your approach and share the Python script you would use for this task."
   ]
  },
  {
   "cell_type": "code",
   "execution_count": 1,
   "id": "362961b6-7b4b-442b-9156-31d30884c5ee",
   "metadata": {},
   "outputs": [],
   "source": [
    "import pandas as pd"
   ]
  },
  {
   "cell_type": "code",
   "execution_count": 2,
   "id": "5e0b8dc4-a5a0-48b1-885b-0967802ef275",
   "metadata": {},
   "outputs": [
    {
     "data": {
      "text/html": [
       "<div>\n",
       "<style scoped>\n",
       "    .dataframe tbody tr th:only-of-type {\n",
       "        vertical-align: middle;\n",
       "    }\n",
       "\n",
       "    .dataframe tbody tr th {\n",
       "        vertical-align: top;\n",
       "    }\n",
       "\n",
       "    .dataframe thead th {\n",
       "        text-align: right;\n",
       "    }\n",
       "</style>\n",
       "<table border=\"1\" class=\"dataframe\">\n",
       "  <thead>\n",
       "    <tr style=\"text-align: right;\">\n",
       "      <th></th>\n",
       "      <th>id</th>\n",
       "      <th>first_name</th>\n",
       "      <th>last_name</th>\n",
       "      <th>full_name</th>\n",
       "      <th>math_score</th>\n",
       "      <th>history_score</th>\n",
       "      <th>physics_score</th>\n",
       "      <th>chemistry_score</th>\n",
       "      <th>biology_score</th>\n",
       "      <th>english_score</th>\n",
       "      <th>geography_score</th>\n",
       "    </tr>\n",
       "  </thead>\n",
       "  <tbody>\n",
       "    <tr>\n",
       "      <th>0</th>\n",
       "      <td>1.0</td>\n",
       "      <td>Paul</td>\n",
       "      <td>Casey</td>\n",
       "      <td>Paul Casey</td>\n",
       "      <td>73.0</td>\n",
       "      <td>81.0</td>\n",
       "      <td>93.0</td>\n",
       "      <td>97.0</td>\n",
       "      <td>63.0</td>\n",
       "      <td>80.0</td>\n",
       "      <td>87.0</td>\n",
       "    </tr>\n",
       "    <tr>\n",
       "      <th>1</th>\n",
       "      <td>2.0</td>\n",
       "      <td>Danielle</td>\n",
       "      <td>Sandoval</td>\n",
       "      <td>Danielle Sandoval</td>\n",
       "      <td>90.0</td>\n",
       "      <td>86.0</td>\n",
       "      <td>96.0</td>\n",
       "      <td>100.0</td>\n",
       "      <td>90.0</td>\n",
       "      <td>88.0</td>\n",
       "      <td>90.0</td>\n",
       "    </tr>\n",
       "    <tr>\n",
       "      <th>2</th>\n",
       "      <td>3.0</td>\n",
       "      <td>Tina</td>\n",
       "      <td>Andrews</td>\n",
       "      <td>Tina Andrews</td>\n",
       "      <td>81.0</td>\n",
       "      <td>97.0</td>\n",
       "      <td>95.0</td>\n",
       "      <td>96.0</td>\n",
       "      <td>65.0</td>\n",
       "      <td>77.0</td>\n",
       "      <td>94.0</td>\n",
       "    </tr>\n",
       "  </tbody>\n",
       "</table>\n",
       "</div>"
      ],
      "text/plain": [
       "    id first_name last_name          full_name  math_score  history_score  \\\n",
       "0  1.0       Paul     Casey         Paul Casey        73.0           81.0   \n",
       "1  2.0   Danielle  Sandoval  Danielle Sandoval        90.0           86.0   \n",
       "2  3.0       Tina   Andrews       Tina Andrews        81.0           97.0   \n",
       "\n",
       "   physics_score  chemistry_score  biology_score  english_score  \\\n",
       "0           93.0             97.0           63.0           80.0   \n",
       "1           96.0            100.0           90.0           88.0   \n",
       "2           95.0             96.0           65.0           77.0   \n",
       "\n",
       "   geography_score  \n",
       "0             87.0  \n",
       "1             90.0  \n",
       "2             94.0  "
      ]
     },
     "execution_count": 2,
     "metadata": {},
     "output_type": "execute_result"
    }
   ],
   "source": [
    "df = pd.read_csv('student-scores.csv')\n",
    "df.head(3)"
   ]
  },
  {
   "cell_type": "code",
   "execution_count": 3,
   "id": "4e14eaf1-5d62-4852-976c-8f43a5789077",
   "metadata": {},
   "outputs": [
    {
     "name": "stdout",
     "output_type": "stream",
     "text": [
      "<class 'pandas.core.frame.DataFrame'>\n",
      "RangeIndex: 2001 entries, 0 to 2000\n",
      "Data columns (total 11 columns):\n",
      " #   Column           Non-Null Count  Dtype  \n",
      "---  ------           --------------  -----  \n",
      " 0   id               2000 non-null   float64\n",
      " 1   first_name       2000 non-null   object \n",
      " 2   last_name        2000 non-null   object \n",
      " 3   full_name        2001 non-null   object \n",
      " 4   math_score       2000 non-null   float64\n",
      " 5   history_score    2000 non-null   float64\n",
      " 6   physics_score    2000 non-null   float64\n",
      " 7   chemistry_score  2000 non-null   float64\n",
      " 8   biology_score    2000 non-null   float64\n",
      " 9   english_score    2000 non-null   float64\n",
      " 10  geography_score  2000 non-null   float64\n",
      "dtypes: float64(8), object(3)\n",
      "memory usage: 172.1+ KB\n"
     ]
    }
   ],
   "source": [
    "df.info()"
   ]
  },
  {
   "cell_type": "code",
   "execution_count": 4,
   "id": "6253202b-25a1-4592-965f-f21f8cea3ff5",
   "metadata": {},
   "outputs": [],
   "source": [
    "final_df = df[['full_name',\t'math_score',\t'history_score',\t'physics_score',\t'chemistry_score',\t'biology_score',\t'english_score',\t'geography_score']]"
   ]
  },
  {
   "cell_type": "code",
   "execution_count": 5,
   "id": "c5127c6f-17e6-46d3-a588-dec846068dd4",
   "metadata": {},
   "outputs": [
    {
     "data": {
      "text/plain": [
       "full_name          0\n",
       "math_score         1\n",
       "history_score      1\n",
       "physics_score      1\n",
       "chemistry_score    1\n",
       "biology_score      1\n",
       "english_score      1\n",
       "geography_score    1\n",
       "dtype: int64"
      ]
     },
     "execution_count": 5,
     "metadata": {},
     "output_type": "execute_result"
    }
   ],
   "source": [
    "final_df.isnull().sum()"
   ]
  },
  {
   "cell_type": "code",
   "execution_count": 6,
   "id": "8e732c4e-d944-42d4-bb6b-a473b009a888",
   "metadata": {},
   "outputs": [],
   "source": [
    "final_df = final_df.drop(index=2000) # it is null"
   ]
  },
  {
   "cell_type": "code",
   "execution_count": 7,
   "id": "5cee5b1d-fb38-4e66-8687-e615e46d1856",
   "metadata": {},
   "outputs": [
    {
     "data": {
      "text/plain": [
       "0"
      ]
     },
     "execution_count": 7,
     "metadata": {},
     "output_type": "execute_result"
    }
   ],
   "source": [
    "final_df.duplicated().sum()"
   ]
  },
  {
   "cell_type": "code",
   "execution_count": 8,
   "id": "8339aed1-7bb3-49a8-9178-41593661b454",
   "metadata": {},
   "outputs": [
    {
     "data": {
      "text/html": [
       "<div>\n",
       "<style scoped>\n",
       "    .dataframe tbody tr th:only-of-type {\n",
       "        vertical-align: middle;\n",
       "    }\n",
       "\n",
       "    .dataframe tbody tr th {\n",
       "        vertical-align: top;\n",
       "    }\n",
       "\n",
       "    .dataframe thead th {\n",
       "        text-align: right;\n",
       "    }\n",
       "</style>\n",
       "<table border=\"1\" class=\"dataframe\">\n",
       "  <thead>\n",
       "    <tr style=\"text-align: right;\">\n",
       "      <th></th>\n",
       "      <th>full_name</th>\n",
       "      <th>math_score</th>\n",
       "      <th>history_score</th>\n",
       "      <th>physics_score</th>\n",
       "      <th>chemistry_score</th>\n",
       "      <th>biology_score</th>\n",
       "      <th>english_score</th>\n",
       "      <th>geography_score</th>\n",
       "    </tr>\n",
       "  </thead>\n",
       "  <tbody>\n",
       "    <tr>\n",
       "      <th>0</th>\n",
       "      <td>Paul Casey</td>\n",
       "      <td>73.0</td>\n",
       "      <td>81.0</td>\n",
       "      <td>93.0</td>\n",
       "      <td>97.0</td>\n",
       "      <td>63.0</td>\n",
       "      <td>80.0</td>\n",
       "      <td>87.0</td>\n",
       "    </tr>\n",
       "    <tr>\n",
       "      <th>1</th>\n",
       "      <td>Danielle Sandoval</td>\n",
       "      <td>90.0</td>\n",
       "      <td>86.0</td>\n",
       "      <td>96.0</td>\n",
       "      <td>100.0</td>\n",
       "      <td>90.0</td>\n",
       "      <td>88.0</td>\n",
       "      <td>90.0</td>\n",
       "    </tr>\n",
       "    <tr>\n",
       "      <th>2</th>\n",
       "      <td>Tina Andrews</td>\n",
       "      <td>81.0</td>\n",
       "      <td>97.0</td>\n",
       "      <td>95.0</td>\n",
       "      <td>96.0</td>\n",
       "      <td>65.0</td>\n",
       "      <td>77.0</td>\n",
       "      <td>94.0</td>\n",
       "    </tr>\n",
       "  </tbody>\n",
       "</table>\n",
       "</div>"
      ],
      "text/plain": [
       "           full_name  math_score  history_score  physics_score  \\\n",
       "0         Paul Casey        73.0           81.0           93.0   \n",
       "1  Danielle Sandoval        90.0           86.0           96.0   \n",
       "2       Tina Andrews        81.0           97.0           95.0   \n",
       "\n",
       "   chemistry_score  biology_score  english_score  geography_score  \n",
       "0             97.0           63.0           80.0             87.0  \n",
       "1            100.0           90.0           88.0             90.0  \n",
       "2             96.0           65.0           77.0             94.0  "
      ]
     },
     "execution_count": 8,
     "metadata": {},
     "output_type": "execute_result"
    }
   ],
   "source": [
    "final_df.head(3)"
   ]
  },
  {
   "cell_type": "code",
   "execution_count": 9,
   "id": "550ffb1b-f09d-47b8-a110-d1302996dff3",
   "metadata": {},
   "outputs": [],
   "source": [
    "final_df['total_score'] = df['math_score'] + df['history_score'] + df['physics_score'] + df['chemistry_score'] + df['biology_score'] + df['english_score'] + df['geography_score']"
   ]
  },
  {
   "cell_type": "code",
   "execution_count": 10,
   "id": "54c48796-a3a7-47a5-91f7-3e2b525e818c",
   "metadata": {},
   "outputs": [],
   "source": [
    "final_df['average_score'] = (final_df['total_score'] / 7).round(1)"
   ]
  },
  {
   "cell_type": "code",
   "execution_count": 11,
   "id": "f3bdd4b4-e36a-474d-887d-45fadc99866b",
   "metadata": {},
   "outputs": [
    {
     "data": {
      "text/html": [
       "<div>\n",
       "<style scoped>\n",
       "    .dataframe tbody tr th:only-of-type {\n",
       "        vertical-align: middle;\n",
       "    }\n",
       "\n",
       "    .dataframe tbody tr th {\n",
       "        vertical-align: top;\n",
       "    }\n",
       "\n",
       "    .dataframe thead th {\n",
       "        text-align: right;\n",
       "    }\n",
       "</style>\n",
       "<table border=\"1\" class=\"dataframe\">\n",
       "  <thead>\n",
       "    <tr style=\"text-align: right;\">\n",
       "      <th></th>\n",
       "      <th>full_name</th>\n",
       "      <th>math_score</th>\n",
       "      <th>history_score</th>\n",
       "      <th>physics_score</th>\n",
       "      <th>chemistry_score</th>\n",
       "      <th>biology_score</th>\n",
       "      <th>english_score</th>\n",
       "      <th>geography_score</th>\n",
       "      <th>total_score</th>\n",
       "      <th>average_score</th>\n",
       "    </tr>\n",
       "  </thead>\n",
       "  <tbody>\n",
       "    <tr>\n",
       "      <th>0</th>\n",
       "      <td>Paul Casey</td>\n",
       "      <td>73.0</td>\n",
       "      <td>81.0</td>\n",
       "      <td>93.0</td>\n",
       "      <td>97.0</td>\n",
       "      <td>63.0</td>\n",
       "      <td>80.0</td>\n",
       "      <td>87.0</td>\n",
       "      <td>574.0</td>\n",
       "      <td>82.0</td>\n",
       "    </tr>\n",
       "    <tr>\n",
       "      <th>1</th>\n",
       "      <td>Danielle Sandoval</td>\n",
       "      <td>90.0</td>\n",
       "      <td>86.0</td>\n",
       "      <td>96.0</td>\n",
       "      <td>100.0</td>\n",
       "      <td>90.0</td>\n",
       "      <td>88.0</td>\n",
       "      <td>90.0</td>\n",
       "      <td>640.0</td>\n",
       "      <td>91.4</td>\n",
       "    </tr>\n",
       "  </tbody>\n",
       "</table>\n",
       "</div>"
      ],
      "text/plain": [
       "           full_name  math_score  history_score  physics_score  \\\n",
       "0         Paul Casey        73.0           81.0           93.0   \n",
       "1  Danielle Sandoval        90.0           86.0           96.0   \n",
       "\n",
       "   chemistry_score  biology_score  english_score  geography_score  \\\n",
       "0             97.0           63.0           80.0             87.0   \n",
       "1            100.0           90.0           88.0             90.0   \n",
       "\n",
       "   total_score  average_score  \n",
       "0        574.0           82.0  \n",
       "1        640.0           91.4  "
      ]
     },
     "execution_count": 11,
     "metadata": {},
     "output_type": "execute_result"
    }
   ],
   "source": [
    "final_df.head(2)"
   ]
  },
  {
   "cell_type": "code",
   "execution_count": 12,
   "id": "026e1774-7e46-4228-9622-0b047f4fd614",
   "metadata": {},
   "outputs": [],
   "source": [
    "from reportlab.lib import colors\n",
    "from reportlab.lib.pagesizes import letter\n",
    "from reportlab.platypus import SimpleDocTemplate, Table, TableStyle, Paragraph\n",
    "from reportlab.lib.styles import getSampleStyleSheet"
   ]
  },
  {
   "cell_type": "code",
   "execution_count": 13,
   "id": "b454c5b7-804d-4a7d-9be9-4fb74a945f0d",
   "metadata": {},
   "outputs": [],
   "source": [
    "def report_card(df):\n",
    "    for _, row in df.iterrows():\n",
    "        full_name = row['full_name']\n",
    "        total_score  = row['total_score']\n",
    "        average_score = row['average_score']\n",
    "\n",
    "        subject_scores = [['Math', row['math_score']],['History', row['history_score']],['Physics', row['physics_score']],['Chemistry', row['chemistry_score']],['Biology', row['biology_score']],['English', row['english_score']],['Geography', row['geography_score']]]\n",
    "\n",
    "        file_name = f\"report_card_{full_name.replace(' ','_')}.pdf\"\n",
    "        pdf = SimpleDocTemplate(file_name, pagesize=letter)\n",
    "        elements = []\n",
    "\n",
    "        style = getSampleStyleSheet()\n",
    "        elements.append(Paragraph(f\"<b>Report Card</b>\", style['Title']))\n",
    "        elements.append(Paragraph(f\"Full Name: {full_name}\", style['Normal']))\n",
    "        elements.append(Paragraph(f\"Total Score: {total_score}\", style['Normal']))\n",
    "        elements.append(Paragraph(f\"Average Score: {average_score}\",style['Normal']))\n",
    "        elements.append(Paragraph(\"<br/>\",style['Normal']))\n",
    "\n",
    "        table_data = [['Subject', 'Score']] + subject_scores\n",
    "        table = Table(table_data)\n",
    "        table.setStyle(TableStyle([\n",
    "            ('BACKGROUND', (0, 0), (-1, 0), colors.grey),  # Header row background\n",
    "            ('TEXTCOLOR', (0, 0), (-1, 0), colors.whitesmoke),  # Header text color\n",
    "            ('ALIGN', (0, 0), (-1, -1), 'CENTER'),  # Center align all cells\n",
    "            ('FONTNAME', (0, 0), (-1, 0), 'Helvetica-Bold'),  # Header font bold\n",
    "            ('BOTTOMPADDING', (0, 0), (-1, 0), 12),  # Padding for header\n",
    "            ('BACKGROUND', (0, 1), (-1, -1), colors.beige),  # Background for other rows\n",
    "            ('GRID', (0, 0), (-1, -1), 1, colors.black),  # Table grid lines\n",
    "        ]))\n",
    "\n",
    "        elements.append(table)\n",
    "\n",
    "        pdf.build(elements)\n",
    "        print(f\"Report_card_generated: {file_name}\")"
   ]
  },
  {
   "cell_type": "code",
   "execution_count": 14,
   "id": "76a351ce-267c-4bee-ab2c-c2a6441893af",
   "metadata": {},
   "outputs": [],
   "source": [
    "# for sample only 5 first"
   ]
  },
  {
   "cell_type": "code",
   "execution_count": 15,
   "id": "b44660b2-35ea-4b55-bbc4-d8fc0f4be897",
   "metadata": {},
   "outputs": [
    {
     "name": "stdout",
     "output_type": "stream",
     "text": [
      "Report_card_generated: report_card_Paul_Casey.pdf\n",
      "Report_card_generated: report_card_Danielle_Sandoval.pdf\n",
      "Report_card_generated: report_card_Tina_Andrews.pdf\n",
      "Report_card_generated: report_card_Tara_Clark.pdf\n",
      "Report_card_generated: report_card_Anthony_Campos.pdf\n",
      "Report_card_generated: report_card_Kelly_Wade.pdf\n",
      "Report_card_generated: report_card_Anthony_Smith.pdf\n",
      "Report_card_generated: report_card_George_Short.pdf\n",
      "Report_card_generated: report_card_Stanley_Gutierrez.pdf\n",
      "Report_card_generated: report_card_Audrey_Simpson.pdf\n",
      "Report_card_generated: report_card_Gabrielle_White.pdf\n",
      "Report_card_generated: report_card_Clinton_Randolph.pdf\n",
      "Report_card_generated: report_card_Patricia_Gomez.pdf\n",
      "Report_card_generated: report_card_Pamela_Jackson.pdf\n",
      "Report_card_generated: report_card_Laura_Jackson.pdf\n"
     ]
    }
   ],
   "source": [
    "new = final_df.head(15)\n",
    "report_card(new)"
   ]
  },
  {
   "cell_type": "code",
   "execution_count": null,
   "id": "65976735-285a-4f5d-90e5-6c87a9105df2",
   "metadata": {},
   "outputs": [],
   "source": []
  },
  {
   "cell_type": "code",
   "execution_count": null,
   "id": "c9f53a97-762b-4333-a6bc-75477fe47ae9",
   "metadata": {},
   "outputs": [],
   "source": []
  }
 ],
 "metadata": {
  "kernelspec": {
   "display_name": "Python 3 (ipykernel)",
   "language": "python",
   "name": "python3"
  },
  "language_info": {
   "codemirror_mode": {
    "name": "ipython",
    "version": 3
   },
   "file_extension": ".py",
   "mimetype": "text/x-python",
   "name": "python",
   "nbconvert_exporter": "python",
   "pygments_lexer": "ipython3",
   "version": "3.12.3"
  }
 },
 "nbformat": 4,
 "nbformat_minor": 5
}
